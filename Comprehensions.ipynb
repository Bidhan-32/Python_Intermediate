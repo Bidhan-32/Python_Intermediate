{
 "cells": [
  {
   "cell_type": "code",
   "execution_count": 4,
   "id": "47b01e8c",
   "metadata": {},
   "outputs": [
    {
     "name": "stdout",
     "output_type": "stream",
     "text": [
      "[0, 2, 4, 6, 8]\n",
      "[0, 2, 4, 6, 8]\n"
     ]
    }
   ],
   "source": [
    "# \"Normal List\" \n",
    "divisible_by_two = []\n",
    "\n",
    "for x in range(10):\n",
    "    if x % 2 ==0:\n",
    "        divisible_by_two.append(x)\n",
    "print(divisible_by_two)\n",
    "\n",
    "# \"Using List Comprehension\"\n",
    "\n",
    "divisible_by_two = [x for x in range(10) if x%2 == 0]\n",
    "print(divisible_by_two)"
   ]
  },
  {
   "cell_type": "code",
   "execution_count": 10,
   "id": "ab471afa",
   "metadata": {},
   "outputs": [
    {
     "name": "stdout",
     "output_type": "stream",
     "text": [
      "{'e', 'a', 'i'}\n",
      "{'e', 'a', 'i'}\n"
     ]
    }
   ],
   "source": [
    "# Normal Set\n",
    "\n",
    "vowels = set()\n",
    "for x in 'bidhan biden':\n",
    "    if x in 'aeiou':\n",
    "        vowels.add(x)\n",
    "# while adding the value in set no any element is repeated.\n",
    "# while list may contain duplicate element\n",
    "print(vowels)\n",
    "\n",
    "\n",
    "#Using Set Comprehension\n",
    "#Same as list comprehension but {} bracket\n",
    "vowels = {x for x in 'bidhan biden' if x in 'aeiou'}\n",
    "print(vowels)"
   ]
  },
  {
   "cell_type": "code",
   "execution_count": 15,
   "id": "f6e01b20",
   "metadata": {},
   "outputs": [
    {
     "name": "stdout",
     "output_type": "stream",
     "text": [
      "{'B': 1, 'i': 2, 'd': 2, 'h': 2, 'a': 4, 'n': 1, ' ': 1, 'K': 1, 't': 1, 'w': 1}\n",
      "{'B': 1, 'i': 2, 'd': 2, 'h': 2, 'a': 4, 'n': 1, ' ': 1, 'K': 0, 't': 1, 'w': 1}\n"
     ]
    }
   ],
   "source": [
    "# Normal dictionary\n",
    "\n",
    "freq = {}\n",
    "\n",
    "for x in 'Bidhan Khatiwada':\n",
    "    if x not in freq:\n",
    "        freq[x] = 'Bidhan Khatiwada'.count(x)\n",
    "print(freq )\n",
    "\n",
    "#Using Dictionary Comprehension\n",
    "\n",
    "freq = {x: 'Bidhan khatiwada'.count(x) for x in 'Bidhan Khatiwada'}\n",
    "print(freq)"
   ]
  },
  {
   "cell_type": "code",
   "execution_count": 20,
   "id": "aef4ea83",
   "metadata": {},
   "outputs": [
    {
     "name": "stdout",
     "output_type": "stream",
     "text": [
      "[0, 2, 4, 6, 8]\n",
      "[0, 2, 4, 6, 8]\n"
     ]
    }
   ],
   "source": [
    "# Normal generator\n",
    "\n",
    "def gen_divbytwo():\n",
    "    for x in range(10):\n",
    "        if x % 2 == 0:\n",
    "            yield x\n",
    "\n",
    "Div_by_two = gen_divbytwo()\n",
    "print(list(Div_by_two))\n",
    "\n",
    "# Using Generator Comprehension\n",
    "Div_by_two = (x for x in range(10) if x % 2 == 0)\n",
    "print(list(Div_by_two))\n"
   ]
  },
  {
   "cell_type": "code",
   "execution_count": null,
   "id": "b4951f15",
   "metadata": {},
   "outputs": [],
   "source": []
  }
 ],
 "metadata": {
  "kernelspec": {
   "display_name": "Python 3 (ipykernel)",
   "language": "python",
   "name": "python3"
  },
  "language_info": {
   "codemirror_mode": {
    "name": "ipython",
    "version": 3
   },
   "file_extension": ".py",
   "mimetype": "text/x-python",
   "name": "python",
   "nbconvert_exporter": "python",
   "pygments_lexer": "ipython3",
   "version": "3.9.5"
  }
 },
 "nbformat": 4,
 "nbformat_minor": 5
}
