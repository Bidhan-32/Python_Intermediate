{
 "cells": [
  {
   "cell_type": "code",
   "execution_count": 1,
   "id": "674d8812",
   "metadata": {},
   "outputs": [
    {
     "name": "stdout",
     "output_type": "stream",
     "text": [
      "40\n"
     ]
    }
   ],
   "source": [
    "# High Order Function: Takes one or more function as an input\n",
    "#                      or return a function as an output\n",
    "\n",
    "def HOF(function,arg):\n",
    "    return function(function(arg))\n",
    "\n",
    "def mul(x):\n",
    "    return x*2\n",
    "\n",
    "print(HOF(mul,10))\n",
    "\n",
    "# Output process:\n",
    "#    -- First of all mul(10) will run. (Output: 10*2=20)\n",
    "#    -- Then the output of mul(10) is passed as \n",
    "#           a parameter x in mul function.(Output: 20*2=40)\n",
    "    "
   ]
  },
  {
   "cell_type": "code",
   "execution_count": null,
   "id": "c27e0590",
   "metadata": {},
   "outputs": [],
   "source": [
    "Decorator: \n",
    "          Decorator is a function that takes a function as an argument and returns the function \n",
    "          that modifies the behavior of original function.\n",
    "*args : Takes the necessary arguments as a tuples.\n",
    "**kwargs : Takes the necessary arguments as a dictionary."
   ]
  },
  {
   "cell_type": "code",
   "execution_count": 13,
   "id": "dace4227",
   "metadata": {},
   "outputs": [
    {
     "name": "stdout",
     "output_type": "stream",
     "text": [
      "Hello Bidhan\n",
      "Welcome to my Online Store.\n"
     ]
    }
   ],
   "source": [
    "def greeting(fx):\n",
    "    def mfx():\n",
    "        fx()\n",
    "        print(\"Welcome to my Online Store.\")\n",
    "    return mfx\n",
    "\n",
    "@greeting\n",
    "def hello():\n",
    "    print(\"Hello Bidhan\")\n",
    "\n",
    "#Simple calling using decorator.(Because we have use @greeting above hello function)\n",
    "hello()"
   ]
  },
  {
   "cell_type": "code",
   "execution_count": null,
   "id": "36642329",
   "metadata": {},
   "outputs": [],
   "source": [
    "The above example is a function without any arguments. So now considering the function\n",
    "with an argument using *args and **kwargs same as above example."
   ]
  },
  {
   "cell_type": "code",
   "execution_count": 17,
   "id": "0b713de7",
   "metadata": {},
   "outputs": [
    {
     "name": "stdout",
     "output_type": "stream",
     "text": [
      "Hello \tBidhan\n",
      "Welcome to my Online Store.\n"
     ]
    }
   ],
   "source": [
    "# Function decorator\n",
    "\n",
    "def greeting(fx):\n",
    "    def mfx(*args, **kwargs):\n",
    "        fx(*args, **kwargs)\n",
    "        print(\"Welcome to my Online Store.\")\n",
    "    return mfx\n",
    "\n",
    "@greeting\n",
    "def hello(x):\n",
    "    print(\"Hello \\t\" + x)\n",
    "\n",
    "hello(\"Bidhan\")"
   ]
  },
  {
   "cell_type": "code",
   "execution_count": 21,
   "id": "39093576",
   "metadata": {},
   "outputs": [
    {
     "name": "stdout",
     "output_type": "stream",
     "text": [
      "Hello, Bidhan\n",
      "Welcome to my store.\n"
     ]
    }
   ],
   "source": [
    " #Class decorator\n",
    "\n",
    "class greeting:\n",
    "    def __init__(self, function):\n",
    "        self.function = function\n",
    "     \n",
    "    def __call__(self, *args, **kwargs):\n",
    "        self.function(*args, **kwargs)\n",
    "        print(\"Welcome to my store.\")\n",
    "\n",
    "@greeting\n",
    "def hello(name, message='Hello'):\n",
    "    print(\"{}, {}\".format(message, name))\n",
    "\n",
    "hello(\"Bidhan\")"
   ]
  },
  {
   "cell_type": "code",
   "execution_count": null,
   "id": "9b490982",
   "metadata": {},
   "outputs": [],
   "source": []
  }
 ],
 "metadata": {
  "kernelspec": {
   "display_name": "Python 3 (ipykernel)",
   "language": "python",
   "name": "python3"
  },
  "language_info": {
   "codemirror_mode": {
    "name": "ipython",
    "version": 3
   },
   "file_extension": ".py",
   "mimetype": "text/x-python",
   "name": "python",
   "nbconvert_exporter": "python",
   "pygments_lexer": "ipython3",
   "version": "3.9.5"
  }
 },
 "nbformat": 4,
 "nbformat_minor": 5
}
