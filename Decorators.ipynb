{
 "cells": [
  {
   "cell_type": "code",
   "execution_count": 1,
   "id": "f06deeb8",
   "metadata": {},
   "outputs": [
    {
     "name": "stdout",
     "output_type": "stream",
     "text": [
      "40\n"
     ]
    }
   ],
   "source": [
    "# High Order Function: Takes one or more function as an input\n",
    "#                      or return a function as an output\n",
    "\n",
    "def HOF(function,arg):\n",
    "    return function(function(arg))\n",
    "\n",
    "def mul(x):\n",
    "    return x*2\n",
    "\n",
    "print(HOF(mul,10))\n",
    "\n",
    "# Output process:\n",
    "#    -- First of all mul(10) will run. (Output: 10*2=20)\n",
    "#    -- Then the output of mul(10) is passed as \n",
    "#           a parameter x in mul function.(Output: 20*2=40)\n",
    "    "
   ]
  },
  {
   "cell_type": "code",
   "execution_count": null,
   "id": "12e4e18d",
   "metadata": {},
   "outputs": [],
   "source": []
  }
 ],
 "metadata": {
  "kernelspec": {
   "display_name": "Python 3 (ipykernel)",
   "language": "python",
   "name": "python3"
  },
  "language_info": {
   "codemirror_mode": {
    "name": "ipython",
    "version": 3
   },
   "file_extension": ".py",
   "mimetype": "text/x-python",
   "name": "python",
   "nbconvert_exporter": "python",
   "pygments_lexer": "ipython3",
   "version": "3.9.5"
  }
 },
 "nbformat": 4,
 "nbformat_minor": 5
}
