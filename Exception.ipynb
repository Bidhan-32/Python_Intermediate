{
 "cells": [
  {
   "cell_type": "code",
   "execution_count": 8,
   "id": "0e76ba39",
   "metadata": {},
   "outputs": [
    {
     "name": "stdout",
     "output_type": "stream",
     "text": [
      "Error: Value must be positive\n",
      "Value is 3\n"
     ]
    }
   ],
   "source": [
    "class MyException(Exception):\n",
    "    pass\n",
    "\n",
    "def function(value):\n",
    "    if value < 0:\n",
    "        raise MyException(\"Value must be positive\")\n",
    "    else:\n",
    "        print(\"Value is\", value)\n",
    "\n",
    "try:\n",
    "    function(-5)\n",
    "except MyException as e:\n",
    "    print(\"Error:\", str(e))\n",
    "\n",
    "\n",
    "try:\n",
    "    function(3)\n",
    "except MyException as e:\n",
    "    print(\"Error:\", str(e))"
   ]
  },
  {
   "cell_type": "code",
   "execution_count": null,
   "id": "f5a6a811",
   "metadata": {},
   "outputs": [],
   "source": [
    "All topic of this module is covered in above example:\n",
    "    \n",
    "    1. MyException is a class inherited from the base class Exception.\n",
    "    2. function is defined which only print value when value is positive \n",
    "        otherwise it raises exception.\n",
    "    3. We call the function inside try block.\n",
    "    4. If called function raises an exception then it is catch using except block."
   ]
  },
  {
   "cell_type": "code",
   "execution_count": 18,
   "id": "87d29cf2",
   "metadata": {},
   "outputs": [
    {
     "name": "stdout",
     "output_type": "stream",
     "text": [
      "ZeroDivisionError Occurr\n",
      "Value of b =  5\n",
      "NameError Occurr\n"
     ]
    }
   ],
   "source": [
    "def fun(a):\n",
    "    try:\n",
    "        if a == 3:\n",
    "            b = a/(a-3)\n",
    "        elif 4 <= a <= 10:\n",
    "            b=a\n",
    "        print(\"Value of b = \", b)\n",
    "    except ZeroDivisionError:\n",
    "        print(\"ZeroDivisionError Occurr\")\n",
    "    except NameError:\n",
    "        print(\"NameError Occurr\")\n",
    "\n",
    "fun(3)\n",
    "fun(5)\n",
    "fun(15)"
   ]
  },
  {
   "cell_type": "code",
   "execution_count": null,
   "id": "a415e861",
   "metadata": {},
   "outputs": [],
   "source": [
    "ZeroDivisionError and NameError are built-in exceptions in Python that raises \n",
    "when an attempt is made to divide a number by zero &  when a variable is used that\n",
    "has not been defined respectively like we see in above example."
   ]
  }
 ],
 "metadata": {
  "kernelspec": {
   "display_name": "Python 3 (ipykernel)",
   "language": "python",
   "name": "python3"
  },
  "language_info": {
   "codemirror_mode": {
    "name": "ipython",
    "version": 3
   },
   "file_extension": ".py",
   "mimetype": "text/x-python",
   "name": "python",
   "nbconvert_exporter": "python",
   "pygments_lexer": "ipython3",
   "version": "3.9.5"
  }
 },
 "nbformat": 4,
 "nbformat_minor": 5
}
