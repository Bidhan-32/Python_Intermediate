{
 "cells": [
  {
   "cell_type": "code",
   "execution_count": 2,
   "id": "8d1731cb",
   "metadata": {},
   "outputs": [],
   "source": [
    "#Iterable:Iterable are basically objects which can iterate upon.eg:list,tupleetc.\n",
    "#Although list are iterable object, they are not iterator\n",
    "#Iterator are also object that helps to loop over different objects in Python.\n",
    "#Iterator uses two methods:  _iter_() & _next_()\n",
    "    "
   ]
  },
  {
   "cell_type": "code",
   "execution_count": 3,
   "id": "14e89056",
   "metadata": {},
   "outputs": [
    {
     "name": "stdout",
     "output_type": "stream",
     "text": [
      "1\n",
      "2\n",
      "3\n",
      "4\n",
      "5\n"
     ]
    }
   ],
   "source": [
    "#making list as an iterator\n",
    "\n",
    "num = [1,2,3,4,5]\n",
    "nums = iter(num)\n",
    "print(next(nums))\n",
    "print(next(nums))\n",
    "print(next(nums))\n",
    "print(next(nums))\n",
    "print(next(nums))"
   ]
  },
  {
   "cell_type": "code",
   "execution_count": 4,
   "id": "3f780fc3",
   "metadata": {},
   "outputs": [
    {
     "name": "stdout",
     "output_type": "stream",
     "text": [
      "1\n",
      "2\n",
      "3\n",
      "4\n",
      "5\n"
     ]
    },
    {
     "ename": "StopIteration",
     "evalue": "",
     "output_type": "error",
     "traceback": [
      "\u001b[1;31m---------------------------------------------------------------------------\u001b[0m",
      "\u001b[1;31mStopIteration\u001b[0m                             Traceback (most recent call last)",
      "Cell \u001b[1;32mIn[4], line 15\u001b[0m\n\u001b[0;32m     13\u001b[0m \u001b[38;5;28mprint\u001b[39m(\u001b[38;5;28mnext\u001b[39m(nums))\n\u001b[0;32m     14\u001b[0m \u001b[38;5;28mprint\u001b[39m(\u001b[38;5;28mnext\u001b[39m(nums))\n\u001b[1;32m---> 15\u001b[0m \u001b[38;5;28mprint\u001b[39m(\u001b[38;5;28;43mnext\u001b[39;49m\u001b[43m(\u001b[49m\u001b[43mnums\u001b[49m\u001b[43m)\u001b[49m)\n",
      "\u001b[1;31mStopIteration\u001b[0m: "
     ]
    }
   ],
   "source": [
    "# In above example we printed the list\n",
    "#Iterator is stateful so its memorizes it's current state\n",
    "\n",
    "\n",
    "#If we print element which is greter than total no of elements\n",
    "# of a list then it throws error\n",
    "\n",
    "num = [1,2,3,4,5]\n",
    "nums = iter(num)\n",
    "print(next(nums))\n",
    "print(next(nums))\n",
    "print(next(nums))\n",
    "print(next(nums))\n",
    "print(next(nums))\n",
    "print(next(nums))\n",
    "\n",
    "#StopIteration is shown below"
   ]
  },
  {
   "cell_type": "code",
   "execution_count": 9,
   "id": "d71da994",
   "metadata": {},
   "outputs": [
    {
     "name": "stdout",
     "output_type": "stream",
     "text": [
      "0\n",
      "1\n",
      "4\n",
      "9\n"
     ]
    }
   ],
   "source": [
    "#Generator\n",
    "\n",
    "Gen = (x ** 2 for x in range(4))\n",
    "print(next(Gen))\n",
    "print(next(Gen))\n",
    "print(next(Gen))\n",
    "print(next(Gen))"
   ]
  },
  {
   "cell_type": "code",
   "execution_count": 10,
   "id": "614fe1f8",
   "metadata": {},
   "outputs": [
    {
     "name": "stdout",
     "output_type": "stream",
     "text": [
      "machine learning\n",
      "business analytics\n",
      "java\n",
      "python\n"
     ]
    }
   ],
   "source": [
    "#Simple python generator \n",
    "#Generator provides a better way to create iterators \n",
    "\n",
    "def subjects():\n",
    "    yield \"machine learning\"\n",
    "    yield \"business analytics\"\n",
    "    yield \"java\"\n",
    "    yield \"python\"\n",
    "\n",
    "for i in subjects():\n",
    "  print(i)"
   ]
  },
  {
   "cell_type": "code",
   "execution_count": 11,
   "id": "5567f56e",
   "metadata": {},
   "outputs": [],
   "source": [
    "#Yield:yield function is similar to a return statement \n",
    "#But remembers the state of the function so next time\n",
    "#when the generator is called it won’t start from scratch\n",
    "#rather from where it was last called."
   ]
  }
 ],
 "metadata": {
  "kernelspec": {
   "display_name": "Python 3 (ipykernel)",
   "language": "python",
   "name": "python3"
  },
  "language_info": {
   "codemirror_mode": {
    "name": "ipython",
    "version": 3
   },
   "file_extension": ".py",
   "mimetype": "text/x-python",
   "name": "python",
   "nbconvert_exporter": "python",
   "pygments_lexer": "ipython3",
   "version": "3.9.5"
  }
 },
 "nbformat": 4,
 "nbformat_minor": 5
}
